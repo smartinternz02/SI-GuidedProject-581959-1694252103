{
  "nbformat": 4,
  "nbformat_minor": 0,
  "metadata": {
    "colab": {
      "provenance": []
    },
    "kernelspec": {
      "name": "python3",
      "display_name": "Python 3"
    },
    "language_info": {
      "name": "python"
    }
  },
  "cells": [
    {
      "cell_type": "code",
      "execution_count": null,
      "metadata": {
        "colab": {
          "base_uri": "https://localhost:8080/"
        },
        "id": "H1CBc-Sk9srp",
        "outputId": "a6fc89ed-efd3-47c4-ef5f-ea3f34802069"
      },
      "outputs": [
        {
          "output_type": "stream",
          "name": "stdout",
          "text": [
            "Task 1 - DataFrame 'df':\n",
            "          0         1         2         3\n",
            "0  0.800528  0.839785  0.237509  0.343186\n",
            "1  0.632996  0.669496  0.497834  0.122256\n",
            "2  0.265837  0.684888  0.208181  0.829189\n",
            "3  0.863893  0.075953  0.747956  0.468659\n"
          ]
        }
      ],
      "source": [
        "import pandas as pd\n",
        "import numpy as np\n",
        "\n",
        "# Create a DataFrame with random values (4 features and 4 observations)\n",
        "data = np.random.rand(4, 4)\n",
        "df = pd.DataFrame(data)\n",
        "\n",
        "# Display the DataFrame\n",
        "print(\"Task 1 - DataFrame 'df':\")\n",
        "print(df)\n"
      ]
    },
    {
      "cell_type": "code",
      "source": [
        "# Rename the columns\n",
        "df.columns = ['Random value 1', 'Random value 2', 'Random value 3', 'Random value 4']\n",
        "\n",
        "# Display the DataFrame with renamed columns\n",
        "print(\"\\nTask 2 - Renamed DataFrame:\")\n",
        "print(df)\n"
      ],
      "metadata": {
        "colab": {
          "base_uri": "https://localhost:8080/"
        },
        "id": "2JxPESQ2-IPZ",
        "outputId": "f3632d59-b0fd-4789-9e2b-621383db3d4f"
      },
      "execution_count": null,
      "outputs": [
        {
          "output_type": "stream",
          "name": "stdout",
          "text": [
            "\n",
            "Task 2 - Renamed DataFrame:\n",
            "   Random value 1  Random value 2  Random value 3  Random value 4\n",
            "0        0.800528        0.839785        0.237509        0.343186\n",
            "1        0.632996        0.669496        0.497834        0.122256\n",
            "2        0.265837        0.684888        0.208181        0.829189\n",
            "3        0.863893        0.075953        0.747956        0.468659\n"
          ]
        }
      ]
    },
    {
      "cell_type": "code",
      "source": [
        "# Descriptive statistics\n",
        "statistics = df.describe()\n",
        "\n",
        "# Display the descriptive statistics\n",
        "print(\"\\nTask 3 - Descriptive Statistics:\")\n",
        "print(statistics)\n"
      ],
      "metadata": {
        "colab": {
          "base_uri": "https://localhost:8080/"
        },
        "id": "uZJOEgv3-Lzg",
        "outputId": "0249d5ff-c5b1-4f74-927d-f59c3a1c6360"
      },
      "execution_count": null,
      "outputs": [
        {
          "output_type": "stream",
          "name": "stdout",
          "text": [
            "\n",
            "Task 3 - Descriptive Statistics:\n",
            "       Random value 1  Random value 2  Random value 3  Random value 4\n",
            "count        4.000000        4.000000        4.000000        4.000000\n",
            "mean         0.640814        0.567531        0.422870        0.440823\n",
            "std          0.268292        0.336621        0.252818        0.295872\n",
            "min          0.265837        0.075953        0.208181        0.122256\n",
            "25%          0.541207        0.521110        0.230177        0.287954\n",
            "50%          0.716762        0.677192        0.367672        0.405923\n",
            "75%          0.816370        0.723612        0.560365        0.558792\n",
            "max          0.863893        0.839785        0.747956        0.829189\n"
          ]
        }
      ]
    },
    {
      "cell_type": "code",
      "source": [
        "# Check for null values\n",
        "null_values = df.isnull().sum()\n",
        "\n",
        "# Find data types of columns\n",
        "data_types = df.dtypes\n",
        "\n",
        "# Display null values and data types\n",
        "print(\"\\nTask 4 - Null Values and Data Types:\")\n",
        "print(\"Null Values:\")\n",
        "print(null_values)\n",
        "print(\"\\nData Types:\")\n",
        "print(data_types)\n"
      ],
      "metadata": {
        "colab": {
          "base_uri": "https://localhost:8080/"
        },
        "id": "5oRoWY4N-S7X",
        "outputId": "ffcb91bf-508d-4748-8512-473363ce4db7"
      },
      "execution_count": null,
      "outputs": [
        {
          "output_type": "stream",
          "name": "stdout",
          "text": [
            "\n",
            "Task 4 - Null Values and Data Types:\n",
            "Null Values:\n",
            "Random value 1    0\n",
            "Random value 2    0\n",
            "Random value 3    0\n",
            "Random value 4    0\n",
            "dtype: int64\n",
            "\n",
            "Data Types:\n",
            "Random value 1    float64\n",
            "Random value 2    float64\n",
            "Random value 3    float64\n",
            "Random value 4    float64\n",
            "dtype: object\n"
          ]
        }
      ]
    },
    {
      "cell_type": "code",
      "source": [
        "# Display 'Random value 2' and 'Random value 3' columns using location methods\n",
        "value2_column = df['Random value 2']\n",
        "value3_column = df['Random value 3']\n",
        "\n",
        "# Display using index location\n",
        "value2_column_by_index = df.iloc[:, 1]  # Column 1 (0-based index) is 'Random value 2'\n",
        "value3_column_by_index = df.iloc[:, 2]  # Column 2 (0-based index) is 'Random value 3'\n",
        "\n",
        "# Print the results\n",
        "print(\"\\nTask 5 - Display 'Random value 2' & 'Random value 3' columns:\")\n",
        "print(\"Using location method:\")\n",
        "print(value2_column)\n",
        "print(value3_column)\n",
        "\n",
        "print(\"\\nUsing index location method:\")\n",
        "print(value2_column_by_index)\n",
        "print(value3_column_by_index)\n"
      ],
      "metadata": {
        "id": "Wf86rpuE-Toc",
        "outputId": "cc8864f7-25bd-4411-ba89-f775fce85df9",
        "colab": {
          "base_uri": "https://localhost:8080/"
        }
      },
      "execution_count": null,
      "outputs": [
        {
          "output_type": "stream",
          "name": "stdout",
          "text": [
            "\n",
            "Task 5 - Display 'Random value 2' & 'Random value 3' columns:\n",
            "Using location method:\n",
            "0    0.839785\n",
            "1    0.669496\n",
            "2    0.684888\n",
            "3    0.075953\n",
            "Name: Random value 2, dtype: float64\n",
            "0    0.237509\n",
            "1    0.497834\n",
            "2    0.208181\n",
            "3    0.747956\n",
            "Name: Random value 3, dtype: float64\n",
            "\n",
            "Using index location method:\n",
            "0    0.839785\n",
            "1    0.669496\n",
            "2    0.684888\n",
            "3    0.075953\n",
            "Name: Random value 2, dtype: float64\n",
            "0    0.237509\n",
            "1    0.497834\n",
            "2    0.208181\n",
            "3    0.747956\n",
            "Name: Random value 3, dtype: float64\n"
          ]
        }
      ]
    }
  ]
}
